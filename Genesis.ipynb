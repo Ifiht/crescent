{
 "cells": [
  {
   "cell_type": "markdown",
   "id": "9988e2b5-84a3-4096-9910-0bd567c2c2e2",
   "metadata": {},
   "source": [
    "# Crescent: Genesis of Digital Life\n",
    "#### _experiment 001_\n",
    "Your average bacteria \"lives\" and replicates on a 30-60 minute time scale. \n",
    "\n",
    "Currently \"nayru\" completes in just under 4s, running just under 200 \"lifeforms\". Representing a speed increase of 135,000%, with very heavy mutations every cycle, \n",
    "\n",
    "it is hoped that the project here will provide useful results for exploration of machine-generated self-replication and selection."
   ]
  },
  {
   "cell_type": "markdown",
   "id": "4af54140-5e11-4d3f-bce4-dd603ded79b5",
   "metadata": {},
   "source": [
    "## Core Functions:"
   ]
  },
  {
   "cell_type": "markdown",
   "id": "d37dd9af-57dc-4399-b7bc-34cfb810efa1",
   "metadata": {},
   "source": [
    "#### Run this command to initialize the environment:"
   ]
  },
  {
   "cell_type": "code",
   "execution_count": 1,
   "id": "cc904485-cd36-4da3-9e04-bcfd369c4a30",
   "metadata": {},
   "outputs": [],
   "source": [
    "! mkdir eden2147483647\n",
    "! cp seed.rb ./eden2147483647/"
   ]
  },
  {
   "cell_type": "markdown",
   "id": "9bb8e040-f759-42a5-8a94-1a00f32374cf",
   "metadata": {},
   "source": [
    "#### \"nayru\" runs all scripts in ./eden, prunes bad results, and mututes as it runs. "
   ]
  },
  {
   "cell_type": "code",
   "execution_count": 7,
   "id": "da368ef9-270a-4f1e-835d-e3f9ce4053ff",
   "metadata": {},
   "outputs": [
    {
     "name": "stdout",
     "output_type": "stream",
     "text": [
      "#========== epoch stats ==========#\n",
      "#  Number of initial forms: 11\n",
      "#  Number of current forms: 9\n",
      "#          Forms destroyed: 6\n",
      "\n",
      "real\t0m1.193s\n",
      "user\t0m1.001s\n",
      "sys\t0m0.211s\n"
     ]
    }
   ],
   "source": [
    "! time ruby nayru.rb"
   ]
  },
  {
   "cell_type": "code",
   "execution_count": 4,
   "id": "29e428b5-983b-469b-9bcf-85d339566be9",
   "metadata": {},
   "outputs": [
    {
     "name": "stdout",
     "output_type": "stream",
     "text": [
      "#========== epoch stats ==========#\n",
      "#  Number of initial forms: 162\n",
      "#  Number of current forms: 166\n",
      "#          Forms destroyed: 162\n",
      "\n",
      "real\t0m19.868s\n",
      "user\t0m15.707s\n",
      "sys\t0m3.545s\n",
      "#========== epoch stats ==========#\n",
      "#  Number of initial forms: 166\n",
      "#  Number of current forms: 161\n",
      "#          Forms destroyed: 165\n",
      "\n",
      "real\t0m19.945s\n",
      "user\t0m15.730s\n",
      "sys\t0m3.600s\n",
      "#========== epoch stats ==========#\n",
      "#  Number of initial forms: 161\n",
      "#  Number of current forms: 164\n",
      "#          Forms destroyed: 160\n",
      "\n",
      "real\t0m19.417s\n",
      "user\t0m15.383s\n",
      "sys\t0m3.460s\n",
      "#========== epoch stats ==========#\n",
      "#  Number of initial forms: 164\n",
      "#  Number of current forms: 167\n",
      "#          Forms destroyed: 163\n",
      "\n",
      "real\t0m20.338s\n",
      "user\t0m15.907s\n",
      "sys\t0m3.700s\n"
     ]
    }
   ],
   "source": [
    "i = 0\n",
    "while i < 4:\n",
    "    ! time ruby nayru.rb\n",
    "    ! rm ./eden*.rb > /dev/null 2>&1\n",
    "    i += 1"
   ]
  },
  {
   "cell_type": "markdown",
   "id": "d861ce18-d651-49cc-a149-50ed10c479e6",
   "metadata": {},
   "source": [
    "#### View what's in eden now:"
   ]
  },
  {
   "cell_type": "code",
   "execution_count": 5,
   "id": "76d06cf5-bbbe-4e14-a4be-7659fef58627",
   "metadata": {},
   "outputs": [
    {
     "name": "stdout",
     "output_type": "stream",
     "text": [
      "total 692\n",
      "drwxr-xr-x 3 jovyan jovyan 12288 Dec 17 21:11 .\n",
      "drwxr-xr-x 1 jovyan jovyan  4096 Dec 17 21:13 ..\n",
      "drwxr-xr-x 2 jovyan jovyan  4096 Dec 17 21:01 .ipynb_checkpoints\n",
      "-rw-r--r-- 1 jovyan jovyan   779 Dec 17 21:11 42.rb\n",
      "-rw-r--r-- 1 jovyan jovyan   779 Dec 17 21:11 586.rb\n",
      "-rw-r--r-- 1 jovyan jovyan   730 Dec 17 21:11 51.rb\n",
      "-rw-r--r-- 1 jovyan jovyan   730 Dec 17 21:11 53.rb\n",
      "-rw-r--r-- 1 jovyan jovyan   730 Dec 17 21:11 713.rb\n",
      "-rw-r--r-- 1 jovyan jovyan   730 Dec 17 21:11 735.rb\n",
      "-rw-r--r-- 1 jovyan jovyan   730 Dec 17 21:11 759.rb\n",
      "-rw-r--r-- 1 jovyan jovyan   730 Dec 17 21:11 915.rb\n",
      "-rw-r--r-- 1 jovyan jovyan   730 Dec 17 21:11 98.rb\n",
      "-rw-r--r-- 1 jovyan jovyan   723 Dec 17 21:11 629.rb\n",
      "-rw-r--r-- 1 jovyan jovyan   723 Dec 17 21:11 695.rb\n",
      "-rw-r--r-- 1 jovyan jovyan   723 Dec 17 21:10 925.rb\n",
      "-rw-r--r-- 1 jovyan jovyan   720 Dec 17 21:10 122.rb\n",
      "-rw-r--r-- 1 jovyan jovyan   720 Dec 17 21:11 12.rb\n",
      "-rw-r--r-- 1 jovyan jovyan   720 Dec 17 21:11 130.rb\n",
      "-rw-r--r-- 1 jovyan jovyan   720 Dec 17 21:10 143.rb\n",
      "-rw-r--r-- 1 jovyan jovyan   720 Dec 17 21:10 14.rb\n",
      "-rw-r--r-- 1 jovyan jovyan   720 Dec 17 21:11 165.rb\n",
      "-rw-r--r-- 1 jovyan jovyan   720 Dec 17 21:11 184.rb\n",
      "-rw-r--r-- 1 jovyan jovyan   720 Dec 17 21:11 206.rb\n",
      "-rw-r--r-- 1 jovyan jovyan   720 Dec 17 21:11 234.rb\n",
      "-rw-r--r-- 1 jovyan jovyan   720 Dec 17 21:11 245.rb\n",
      "-rw-r--r-- 1 jovyan jovyan   720 Dec 17 21:11 24.rb\n",
      "-rw-r--r-- 1 jovyan jovyan   720 Dec 17 21:11 265.rb\n",
      "-rw-r--r-- 1 jovyan jovyan   720 Dec 17 21:11 280.rb\n",
      "-rw-r--r-- 1 jovyan jovyan   720 Dec 17 21:11 329.rb\n",
      "-rw-r--r-- 1 jovyan jovyan   720 Dec 17 21:11 34.rb\n",
      "-rw-r--r-- 1 jovyan jovyan   720 Dec 17 21:10 382.rb\n",
      "-rw-r--r-- 1 jovyan jovyan   720 Dec 17 21:11 416.rb\n",
      "-rw-r--r-- 1 jovyan jovyan   720 Dec 17 21:11 426.rb\n",
      "-rw-r--r-- 1 jovyan jovyan   720 Dec 17 21:11 43.rb\n",
      "-rw-r--r-- 1 jovyan jovyan   720 Dec 17 21:11 443.rb\n",
      "-rw-r--r-- 1 jovyan jovyan   720 Dec 17 21:11 45.rb\n",
      "-rw-r--r-- 1 jovyan jovyan   720 Dec 17 21:10 472.rb\n",
      "-rw-r--r-- 1 jovyan jovyan   720 Dec 17 21:11 495.rb\n",
      "-rw-r--r-- 1 jovyan jovyan   720 Dec 17 21:10 521.rb\n",
      "-rw-r--r-- 1 jovyan jovyan   720 Dec 17 21:11 580.rb\n",
      "-rw-r--r-- 1 jovyan jovyan   720 Dec 17 21:11 622.rb\n",
      "-rw-r--r-- 1 jovyan jovyan   720 Dec 17 21:10 683.rb\n",
      "-rw-r--r-- 1 jovyan jovyan   720 Dec 17 21:11 686.rb\n",
      "-rw-r--r-- 1 jovyan jovyan   720 Dec 17 21:11 696.rb\n",
      "-rw-r--r-- 1 jovyan jovyan   720 Dec 17 21:11 75.rb\n",
      "-rw-r--r-- 1 jovyan jovyan   720 Dec 17 21:10 760.rb\n",
      "-rw-r--r-- 1 jovyan jovyan   720 Dec 17 21:11 795.rb\n",
      "-rw-r--r-- 1 jovyan jovyan   720 Dec 17 21:11 809.rb\n",
      "-rw-r--r-- 1 jovyan jovyan   720 Dec 17 21:11 821.rb\n",
      "-rw-r--r-- 1 jovyan jovyan   720 Dec 17 21:11 823.rb\n",
      "-rw-r--r-- 1 jovyan jovyan   720 Dec 17 21:11 871.rb\n",
      "-rw-r--r-- 1 jovyan jovyan   720 Dec 17 21:11 881.rb\n",
      "-rw-r--r-- 1 jovyan jovyan   720 Dec 17 21:11 92.rb\n",
      "-rw-r--r-- 1 jovyan jovyan   719 Dec 17 21:11 30.rb\n",
      "-rw-r--r-- 1 jovyan jovyan   719 Dec 17 21:11 340.rb\n",
      "-rw-r--r-- 1 jovyan jovyan   719 Dec 17 21:10 404.rb\n",
      "-rw-r--r-- 1 jovyan jovyan   719 Dec 17 21:10 49.rb\n",
      "-rw-r--r-- 1 jovyan jovyan   719 Dec 17 21:10 776.rb\n",
      "-rw-r--r-- 1 jovyan jovyan   719 Dec 17 21:11 95.rb\n",
      "-rw-r--r-- 1 jovyan jovyan   719 Dec 17 21:11 995.rb\n",
      "-rw-r--r-- 1 jovyan jovyan   719 Dec 17 21:11 998.rb\n",
      "-rw-r--r-- 1 jovyan jovyan   718 Dec 17 21:11 187.rb\n",
      "-rw-r--r-- 1 jovyan jovyan   718 Dec 17 21:11 360.rb\n",
      "-rw-r--r-- 1 jovyan jovyan   718 Dec 17 21:11 525.rb\n",
      "-rw-r--r-- 1 jovyan jovyan   718 Dec 17 21:11 86.rb\n",
      "-rw-r--r-- 1 jovyan jovyan   717 Dec 17 21:11 100.rb\n",
      "-rw-r--r-- 1 jovyan jovyan   717 Dec 17 21:10 123.rb\n",
      "-rw-r--r-- 1 jovyan jovyan   717 Dec 17 21:10 129.rb\n",
      "-rw-r--r-- 1 jovyan jovyan   717 Dec 17 21:10 147.rb\n",
      "-rw-r--r-- 1 jovyan jovyan   717 Dec 17 21:10 156.rb\n",
      "-rw-r--r-- 1 jovyan jovyan   717 Dec 17 21:11 161.rb\n",
      "-rw-r--r-- 1 jovyan jovyan   717 Dec 17 21:11 16.rb\n",
      "-rw-r--r-- 1 jovyan jovyan   717 Dec 17 21:11 171.rb\n",
      "-rw-r--r-- 1 jovyan jovyan   717 Dec 17 21:11 176.rb\n",
      "-rw-r--r-- 1 jovyan jovyan   717 Dec 17 21:11 197.rb\n",
      "-rw-r--r-- 1 jovyan jovyan   717 Dec 17 21:11 204.rb\n",
      "-rw-r--r-- 1 jovyan jovyan   717 Dec 17 21:10 21.rb\n",
      "-rw-r--r-- 1 jovyan jovyan   717 Dec 17 21:10 22.rb\n",
      "-rw-r--r-- 1 jovyan jovyan   717 Dec 17 21:11 232.rb\n",
      "-rw-r--r-- 1 jovyan jovyan   717 Dec 17 21:11 236.rb\n",
      "-rw-r--r-- 1 jovyan jovyan   717 Dec 17 21:11 243.rb\n",
      "-rw-r--r-- 1 jovyan jovyan   717 Dec 17 21:11 248.rb\n",
      "-rw-r--r-- 1 jovyan jovyan   717 Dec 17 21:11 291.rb\n",
      "-rw-r--r-- 1 jovyan jovyan   717 Dec 17 21:10 294.rb\n",
      "-rw-r--r-- 1 jovyan jovyan   717 Dec 17 21:11 303.rb\n",
      "-rw-r--r-- 1 jovyan jovyan   717 Dec 17 21:11 309.rb\n",
      "-rw-r--r-- 1 jovyan jovyan   717 Dec 17 21:11 32.rb\n",
      "-rw-r--r-- 1 jovyan jovyan   717 Dec 17 21:11 350.rb\n",
      "-rw-r--r-- 1 jovyan jovyan   717 Dec 17 21:11 354.rb\n",
      "-rw-r--r-- 1 jovyan jovyan   717 Dec 17 21:11 398.rb\n",
      "-rw-r--r-- 1 jovyan jovyan   717 Dec 17 21:11 400.rb\n",
      "-rw-r--r-- 1 jovyan jovyan   717 Dec 17 21:11 411.rb\n",
      "-rw-r--r-- 1 jovyan jovyan   717 Dec 17 21:11 445.rb\n",
      "-rw-r--r-- 1 jovyan jovyan   717 Dec 17 21:11 47.rb\n",
      "-rw-r--r-- 1 jovyan jovyan   717 Dec 17 21:11 484.rb\n",
      "-rw-r--r-- 1 jovyan jovyan   717 Dec 17 21:11 48.rb\n",
      "-rw-r--r-- 1 jovyan jovyan   717 Dec 17 21:11 497.rb\n",
      "-rw-r--r-- 1 jovyan jovyan   717 Dec 17 21:11 50.rb\n",
      "-rw-r--r-- 1 jovyan jovyan   717 Dec 17 21:11 526.rb\n",
      "-rw-r--r-- 1 jovyan jovyan   717 Dec 17 21:11 571.rb\n",
      "-rw-r--r-- 1 jovyan jovyan   717 Dec 17 21:11 589.rb\n",
      "-rw-r--r-- 1 jovyan jovyan   717 Dec 17 21:11 600.rb\n",
      "-rw-r--r-- 1 jovyan jovyan   717 Dec 17 21:11 60.rb\n",
      "-rw-r--r-- 1 jovyan jovyan   717 Dec 17 21:11 621.rb\n",
      "-rw-r--r-- 1 jovyan jovyan   717 Dec 17 21:11 637.rb\n",
      "-rw-r--r-- 1 jovyan jovyan   717 Dec 17 21:10 653.rb\n",
      "-rw-r--r-- 1 jovyan jovyan   717 Dec 17 21:11 667.rb\n",
      "-rw-r--r-- 1 jovyan jovyan   717 Dec 17 21:11 66.rb\n",
      "-rw-r--r-- 1 jovyan jovyan   717 Dec 17 21:11 67.rb\n",
      "-rw-r--r-- 1 jovyan jovyan   717 Dec 17 21:11 706.rb\n",
      "-rw-r--r-- 1 jovyan jovyan   717 Dec 17 21:11 707.rb\n",
      "-rw-r--r-- 1 jovyan jovyan   717 Dec 17 21:11 70.rb\n",
      "-rw-r--r-- 1 jovyan jovyan   717 Dec 17 21:11 71.rb\n",
      "-rw-r--r-- 1 jovyan jovyan   717 Dec 17 21:11 724.rb\n",
      "-rw-r--r-- 1 jovyan jovyan   717 Dec 17 21:11 738.rb\n",
      "-rw-r--r-- 1 jovyan jovyan   717 Dec 17 21:11 73.rb\n",
      "-rw-r--r-- 1 jovyan jovyan   717 Dec 17 21:11 74.rb\n",
      "-rw-r--r-- 1 jovyan jovyan   717 Dec 17 21:11 751.rb\n",
      "-rw-r--r-- 1 jovyan jovyan   717 Dec 17 21:11 753.rb\n",
      "-rw-r--r-- 1 jovyan jovyan   717 Dec 17 21:11 780.rb\n",
      "-rw-r--r-- 1 jovyan jovyan   717 Dec 17 21:10 798.rb\n",
      "-rw-r--r-- 1 jovyan jovyan   717 Dec 17 21:11 79.rb\n",
      "-rw-r--r-- 1 jovyan jovyan   717 Dec 17 21:11 80.rb\n",
      "-rw-r--r-- 1 jovyan jovyan   717 Dec 17 21:11 829.rb\n",
      "-rw-r--r-- 1 jovyan jovyan   717 Dec 17 21:11 830.rb\n",
      "-rw-r--r-- 1 jovyan jovyan   717 Dec 17 21:10 847.rb\n",
      "-rw-r--r-- 1 jovyan jovyan   717 Dec 17 21:11 851.rb\n",
      "-rw-r--r-- 1 jovyan jovyan   717 Dec 17 21:11 870.rb\n",
      "-rw-r--r-- 1 jovyan jovyan   717 Dec 17 21:11 893.rb\n",
      "-rw-r--r-- 1 jovyan jovyan   717 Dec 17 21:11 898.rb\n",
      "-rw-r--r-- 1 jovyan jovyan   717 Dec 17 21:10 90.rb\n",
      "-rw-r--r-- 1 jovyan jovyan   717 Dec 17 21:11 943.rb\n",
      "-rw-r--r-- 1 jovyan jovyan   717 Dec 17 21:11 969.rb\n",
      "-rw-r--r-- 1 jovyan jovyan   717 Dec 17 21:11 988.rb\n",
      "-rw-r--r-- 1 jovyan jovyan   716 Dec 17 21:11 10.rb\n",
      "-rw-r--r-- 1 jovyan jovyan   716 Dec 17 21:11 128.rb\n",
      "-rw-r--r-- 1 jovyan jovyan   716 Dec 17 21:11 169.rb\n",
      "-rw-r--r-- 1 jovyan jovyan   716 Dec 17 21:11 196.rb\n",
      "-rw-r--r-- 1 jovyan jovyan   716 Dec 17 21:11 363.rb\n",
      "-rw-r--r-- 1 jovyan jovyan   716 Dec 17 21:11 366.rb\n",
      "-rw-r--r-- 1 jovyan jovyan   716 Dec 17 21:11 44.rb\n",
      "-rw-r--r-- 1 jovyan jovyan   716 Dec 17 21:11 4.rb\n",
      "-rw-r--r-- 1 jovyan jovyan   716 Dec 17 21:11 537.rb\n",
      "-rw-r--r-- 1 jovyan jovyan   716 Dec 17 21:11 631.rb\n",
      "-rw-r--r-- 1 jovyan jovyan   716 Dec 17 21:11 742.rb\n",
      "-rw-r--r-- 1 jovyan jovyan   716 Dec 17 21:11 78.rb\n",
      "-rw-r--r-- 1 jovyan jovyan   716 Dec 17 21:11 84.rb\n",
      "-rw-r--r-- 1 jovyan jovyan   716 Dec 17 21:11 866.rb\n",
      "-rw-r--r-- 1 jovyan jovyan   716 Dec 17 21:11 875.rb\n",
      "-rw-r--r-- 1 jovyan jovyan   716 Dec 17 21:11 87.rb\n",
      "-rw-r--r-- 1 jovyan jovyan   716 Dec 17 21:11 919.rb\n",
      "-rw-r--r-- 1 jovyan jovyan   716 Dec 17 21:11 93.rb\n",
      "-rw-r--r-- 1 jovyan jovyan   716 Dec 17 21:11 94.rb\n",
      "-rw-r--r-- 1 jovyan jovyan   715 Dec 17 21:11 891.rb\n",
      "-rw-r--r-- 1 jovyan jovyan   708 Dec 17 21:11 380.rb\n",
      "-rw-r--r-- 1 jovyan jovyan   707 Dec 17 21:11 119.rb\n",
      "-rw-r--r-- 1 jovyan jovyan   707 Dec 17 21:11 304.rb\n",
      "-rw-r--r-- 1 jovyan jovyan   707 Dec 17 21:11 52.rb\n",
      "-rw-r--r-- 1 jovyan jovyan   707 Dec 17 21:11 5.rb\n",
      "-rw-r--r-- 1 jovyan jovyan   707 Dec 17 21:11 88.rb\n",
      "-rw-r--r-- 1 jovyan jovyan   705 Dec 17 21:11 246.rb\n",
      "-rw-r--r-- 1 jovyan jovyan   705 Dec 17 21:11 462.rb\n",
      "-rw-r--r-- 1 jovyan jovyan   705 Dec 17 21:11 54.rb\n",
      "-rw-r--r-- 1 jovyan jovyan   704 Dec 17 21:11 378.rb\n",
      "-rw-r--r-- 1 jovyan jovyan   704 Dec 17 21:11 65.rb\n",
      "-rw-r--r-- 1 jovyan jovyan   704 Dec 17 21:11 679.rb\n",
      "-rw-r--r-- 1 jovyan jovyan   704 Dec 17 21:11 694.rb\n",
      "-rw-r--r-- 1 jovyan jovyan   704 Dec 17 21:11 727.rb\n",
      "-rw-r--r-- 1 jovyan jovyan   704 Dec 17 21:11 805.rb\n",
      "-rw-r--r-- 1 jovyan jovyan   703 Dec 17 21:11 562.rb\n"
     ]
    }
   ],
   "source": [
    "! ls -laS ./eden2147483647"
   ]
  },
  {
   "cell_type": "code",
   "execution_count": 8,
   "id": "f2820042-f012-476b-9732-27818df2a94b",
   "metadata": {},
   "outputs": [
    {
     "name": "stdout",
     "output_type": "stream",
     "text": [
      "170\n"
     ]
    }
   ],
   "source": [
    "! ls -laS ./eden/*.rb | wc -l"
   ]
  },
  {
   "cell_type": "code",
   "execution_count": null,
   "id": "c81d8e6b-ca66-4bb4-986d-006108eaf49b",
   "metadata": {},
   "outputs": [],
   "source": []
  }
 ],
 "metadata": {
  "kernelspec": {
   "display_name": "Python 3 (ipykernel)",
   "language": "python",
   "name": "python3"
  },
  "language_info": {
   "codemirror_mode": {
    "name": "ipython",
    "version": 3
   },
   "file_extension": ".py",
   "mimetype": "text/x-python",
   "name": "python",
   "nbconvert_exporter": "python",
   "pygments_lexer": "ipython3",
   "version": "3.7.12"
  }
 },
 "nbformat": 4,
 "nbformat_minor": 5
}
