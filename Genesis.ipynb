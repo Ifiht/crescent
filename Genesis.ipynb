{
 "cells": [
  {
   "cell_type": "markdown",
   "id": "9988e2b5-84a3-4096-9910-0bd567c2c2e2",
   "metadata": {},
   "source": [
    "# Crescent: Genesis of Digital Life\n",
    "#### _experiment 001_\n",
    "Your average bacteria \"lives\" and replicates on a 30-60 minute time scale. \n",
    "\n",
    "Currently \"nayru\" completes in just under 4s, running just under 200 \"lifeforms\". Representing a speed increase of 135,000%, with very heavy mutations every cycle, \n",
    "\n",
    "it is hoped that the project here will provide useful results for exploration of machine-generated self-replication and selection."
   ]
  },
  {
   "cell_type": "markdown",
   "id": "4af54140-5e11-4d3f-bce4-dd603ded79b5",
   "metadata": {},
   "source": [
    "## Core Functions:"
   ]
  },
  {
   "cell_type": "markdown",
   "id": "d37dd9af-57dc-4399-b7bc-34cfb810efa1",
   "metadata": {},
   "source": [
    "#### Run this command to initialize the environment:"
   ]
  },
  {
   "cell_type": "code",
   "execution_count": 26,
   "id": "cc904485-cd36-4da3-9e04-bcfd369c4a30",
   "metadata": {},
   "outputs": [
    {
     "name": "stdout",
     "output_type": "stream",
     "text": [
      "mkdir: cannot create directory ‘eden2147483647’: File exists\n"
     ]
    }
   ],
   "source": [
    "! mkdir eden2147483647\n",
    "! rm -rf eden2147483647/*\n",
    "! cp seed.rb eden2147483647/1.rb\n",
    "! cp seed.rb eden2147483647/2.rb\n",
    "! cp seed.rb eden2147483647/3.rb"
   ]
  },
  {
   "cell_type": "markdown",
   "id": "9bb8e040-f759-42a5-8a94-1a00f32374cf",
   "metadata": {},
   "source": [
    "#### \"nayru\" runs all scripts in ./eden, prunes bad results, and mututes as it runs. "
   ]
  },
  {
   "cell_type": "code",
   "execution_count": null,
   "id": "da368ef9-270a-4f1e-835d-e3f9ce4053ff",
   "metadata": {},
   "outputs": [],
   "source": [
    "! time ruby nayru.rb"
   ]
  },
  {
   "cell_type": "code",
   "execution_count": 2,
   "id": "29e428b5-983b-469b-9bcf-85d339566be9",
   "metadata": {},
   "outputs": [
    {
     "name": "stdout",
     "output_type": "stream",
     "text": [
      "#========== epoch stats ==========#\n",
      "#  Number of initial forms: 157\n",
      "#  Number of current forms: 168\n",
      "#          Forms destroyed: 154\n",
      "\n",
      "real\t0m20.324s\n",
      "user\t0m15.967s\n",
      "sys\t0m3.714s\n",
      "#========== epoch stats ==========#\n",
      "#  Number of initial forms: 168\n",
      "#  Number of current forms: 162\n",
      "#          Forms destroyed: 168\n",
      "\n",
      "real\t0m21.954s\n",
      "user\t0m17.237s\n",
      "sys\t0m4.054s\n",
      "#========== epoch stats ==========#\n",
      "#  Number of initial forms: 162\n",
      "#  Number of current forms: 148\n",
      "#          Forms destroyed: 161\n",
      "\n",
      "real\t0m21.015s\n",
      "user\t0m16.440s\n",
      "sys\t0m3.961s\n",
      "#========== epoch stats ==========#\n",
      "#  Number of initial forms: 148\n",
      "#  Number of current forms: 159\n",
      "#          Forms destroyed: 148\n",
      "\n",
      "real\t0m19.217s\n",
      "user\t0m15.064s\n",
      "sys\t0m3.479s\n",
      "#========== epoch stats ==========#\n",
      "#  Number of initial forms: 159\n",
      "#  Number of current forms: 163\n",
      "#          Forms destroyed: 159\n",
      "\n",
      "real\t0m20.047s\n",
      "user\t0m15.754s\n",
      "sys\t0m3.746s\n"
     ]
    }
   ],
   "source": [
    "i = 0\n",
    "while i < 5:\n",
    "    ! time ruby nayru.rb\n",
    "    ! rm ./eden*.rb > /dev/null 2>&1\n",
    "    i += 1"
   ]
  },
  {
   "cell_type": "markdown",
   "id": "d861ce18-d651-49cc-a149-50ed10c479e6",
   "metadata": {},
   "source": [
    "#### View what's in eden now:"
   ]
  },
  {
   "cell_type": "code",
   "execution_count": 3,
   "id": "76d06cf5-bbbe-4e14-a4be-7659fef58627",
   "metadata": {},
   "outputs": [
    {
     "name": "stdout",
     "output_type": "stream",
     "text": [
      "total 672\n",
      "drwxr-xr-x 2 jovyan jovyan 12288 Dec 27 19:19 .\n",
      "drwxr-xr-x 1 jovyan jovyan  4096 Dec 27 19:17 ..\n",
      "-rw-r--r-- 1 jovyan jovyan   789 Dec 27 19:19 237.rb\n",
      "-rw-r--r-- 1 jovyan jovyan   789 Dec 27 19:19 318.rb\n",
      "-rw-r--r-- 1 jovyan jovyan   789 Dec 27 19:19 335.rb\n",
      "-rw-r--r-- 1 jovyan jovyan   789 Dec 27 19:19 476.rb\n",
      "-rw-r--r-- 1 jovyan jovyan   789 Dec 27 19:19 549.rb\n",
      "-rw-r--r-- 1 jovyan jovyan   789 Dec 27 19:19 627.rb\n",
      "-rw-r--r-- 1 jovyan jovyan   789 Dec 27 19:19 65.rb\n",
      "-rw-r--r-- 1 jovyan jovyan   789 Dec 27 19:19 691.rb\n",
      "-rw-r--r-- 1 jovyan jovyan   789 Dec 27 19:19 69.rb\n",
      "-rw-r--r-- 1 jovyan jovyan   789 Dec 27 19:19 845.rb\n",
      "-rw-r--r-- 1 jovyan jovyan   789 Dec 27 19:19 97.rb\n",
      "-rw-r--r-- 1 jovyan jovyan   783 Dec 27 19:19 437.rb\n",
      "-rw-r--r-- 1 jovyan jovyan   783 Dec 27 19:19 46.rb\n",
      "-rw-r--r-- 1 jovyan jovyan   777 Dec 27 19:19 295.rb\n",
      "-rw-r--r-- 1 jovyan jovyan   777 Dec 27 19:19 58.rb\n",
      "-rw-r--r-- 1 jovyan jovyan   730 Dec 27 19:19 996.rb\n",
      "-rw-r--r-- 1 jovyan jovyan   729 Dec 27 19:19 120.rb\n",
      "-rw-r--r-- 1 jovyan jovyan   729 Dec 27 19:19 132.rb\n",
      "-rw-r--r-- 1 jovyan jovyan   729 Dec 27 19:19 16.rb\n",
      "-rw-r--r-- 1 jovyan jovyan   729 Dec 27 19:19 31.rb\n",
      "-rw-r--r-- 1 jovyan jovyan   729 Dec 27 19:19 525.rb\n",
      "-rw-r--r-- 1 jovyan jovyan   729 Dec 27 19:19 622.rb\n",
      "-rw-r--r-- 1 jovyan jovyan   729 Dec 27 19:19 66.rb\n",
      "-rw-r--r-- 1 jovyan jovyan   729 Dec 27 19:19 78.rb\n",
      "-rw-r--r-- 1 jovyan jovyan   729 Dec 27 19:19 812.rb\n",
      "-rw-r--r-- 1 jovyan jovyan   729 Dec 27 19:19 836.rb\n",
      "-rw-r--r-- 1 jovyan jovyan   729 Dec 27 19:19 865.rb\n",
      "-rw-r--r-- 1 jovyan jovyan   726 Dec 27 19:19 421.rb\n",
      "-rw-r--r-- 1 jovyan jovyan   726 Dec 27 19:19 75.rb\n",
      "-rw-r--r-- 1 jovyan jovyan   725 Dec 27 19:19 440.rb\n",
      "-rw-r--r-- 1 jovyan jovyan   725 Dec 27 19:19 73.rb\n",
      "-rw-r--r-- 1 jovyan jovyan   723 Dec 27 19:19 194.rb\n",
      "-rw-r--r-- 1 jovyan jovyan   723 Dec 27 19:19 330.rb\n",
      "-rw-r--r-- 1 jovyan jovyan   723 Dec 27 19:19 67.rb\n",
      "-rw-r--r-- 1 jovyan jovyan   720 Dec 27 19:19 797.rb\n",
      "-rw-r--r-- 1 jovyan jovyan   719 Dec 27 19:19 243.rb\n",
      "-rw-r--r-- 1 jovyan jovyan   719 Dec 27 19:19 762.rb\n",
      "-rw-r--r-- 1 jovyan jovyan   718 Dec 27 19:19 117.rb\n",
      "-rw-r--r-- 1 jovyan jovyan   718 Dec 27 19:19 163.rb\n",
      "-rw-r--r-- 1 jovyan jovyan   718 Dec 27 19:19 21.rb\n",
      "-rw-r--r-- 1 jovyan jovyan   718 Dec 27 19:19 430.rb\n",
      "-rw-r--r-- 1 jovyan jovyan   718 Dec 27 19:19 432.rb\n",
      "-rw-r--r-- 1 jovyan jovyan   718 Dec 27 19:19 586.rb\n",
      "-rw-r--r-- 1 jovyan jovyan   718 Dec 27 19:19 641.rb\n",
      "-rw-r--r-- 1 jovyan jovyan   718 Dec 27 19:19 64.rb\n",
      "-rw-r--r-- 1 jovyan jovyan   718 Dec 27 19:19 727.rb\n",
      "-rw-r--r-- 1 jovyan jovyan   718 Dec 27 19:19 739.rb\n",
      "-rw-r--r-- 1 jovyan jovyan   718 Dec 27 19:19 874.rb\n",
      "-rw-r--r-- 1 jovyan jovyan   717 Dec 27 19:19 166.rb\n",
      "-rw-r--r-- 1 jovyan jovyan   717 Dec 27 19:19 362.rb\n",
      "-rw-r--r-- 1 jovyan jovyan   717 Dec 27 19:19 456.rb\n",
      "-rw-r--r-- 1 jovyan jovyan   717 Dec 27 19:19 45.rb\n",
      "-rw-r--r-- 1 jovyan jovyan   717 Dec 27 19:19 516.rb\n",
      "-rw-r--r-- 1 jovyan jovyan   717 Dec 27 19:19 53.rb\n",
      "-rw-r--r-- 1 jovyan jovyan   717 Dec 27 19:19 563.rb\n",
      "-rw-r--r-- 1 jovyan jovyan   717 Dec 27 19:19 79.rb\n",
      "-rw-r--r-- 1 jovyan jovyan   717 Dec 27 19:19 863.rb\n",
      "-rw-r--r-- 1 jovyan jovyan   717 Dec 27 19:19 868.rb\n",
      "-rw-r--r-- 1 jovyan jovyan   717 Dec 27 19:19 894.rb\n",
      "-rw-r--r-- 1 jovyan jovyan   717 Dec 27 19:19 915.rb\n",
      "-rw-r--r-- 1 jovyan jovyan   717 Dec 27 19:19 92.rb\n",
      "-rw-r--r-- 1 jovyan jovyan   717 Dec 27 19:19 947.rb\n",
      "-rw-r--r-- 1 jovyan jovyan   716 Dec 27 19:19 12.rb\n",
      "-rw-r--r-- 1 jovyan jovyan   716 Dec 27 19:19 160.rb\n",
      "-rw-r--r-- 1 jovyan jovyan   716 Dec 27 19:19 190.rb\n",
      "-rw-r--r-- 1 jovyan jovyan   716 Dec 27 19:19 22.rb\n",
      "-rw-r--r-- 1 jovyan jovyan   716 Dec 27 19:19 230.rb\n",
      "-rw-r--r-- 1 jovyan jovyan   716 Dec 27 19:19 247.rb\n",
      "-rw-r--r-- 1 jovyan jovyan   716 Dec 27 19:19 29.rb\n",
      "-rw-r--r-- 1 jovyan jovyan   716 Dec 27 19:19 308.rb\n",
      "-rw-r--r-- 1 jovyan jovyan   716 Dec 27 19:19 317.rb\n",
      "-rw-r--r-- 1 jovyan jovyan   716 Dec 27 19:19 32.rb\n",
      "-rw-r--r-- 1 jovyan jovyan   716 Dec 27 19:19 351.rb\n",
      "-rw-r--r-- 1 jovyan jovyan   716 Dec 27 19:19 353.rb\n",
      "-rw-r--r-- 1 jovyan jovyan   716 Dec 27 19:19 359.rb\n",
      "-rw-r--r-- 1 jovyan jovyan   716 Dec 27 19:19 382.rb\n",
      "-rw-r--r-- 1 jovyan jovyan   716 Dec 27 19:19 38.rb\n",
      "-rw-r--r-- 1 jovyan jovyan   716 Dec 27 19:19 44.rb\n",
      "-rw-r--r-- 1 jovyan jovyan   716 Dec 27 19:19 451.rb\n",
      "-rw-r--r-- 1 jovyan jovyan   716 Dec 27 19:19 49.rb\n",
      "-rw-r--r-- 1 jovyan jovyan   716 Dec 27 19:19 503.rb\n",
      "-rw-r--r-- 1 jovyan jovyan   716 Dec 27 19:19 514.rb\n",
      "-rw-r--r-- 1 jovyan jovyan   716 Dec 27 19:19 553.rb\n",
      "-rw-r--r-- 1 jovyan jovyan   716 Dec 27 19:19 571.rb\n",
      "-rw-r--r-- 1 jovyan jovyan   716 Dec 27 19:19 647.rb\n",
      "-rw-r--r-- 1 jovyan jovyan   716 Dec 27 19:19 655.rb\n",
      "-rw-r--r-- 1 jovyan jovyan   716 Dec 27 19:19 657.rb\n",
      "-rw-r--r-- 1 jovyan jovyan   716 Dec 27 19:19 658.rb\n",
      "-rw-r--r-- 1 jovyan jovyan   716 Dec 27 19:19 70.rb\n",
      "-rw-r--r-- 1 jovyan jovyan   716 Dec 27 19:19 72.rb\n",
      "-rw-r--r-- 1 jovyan jovyan   716 Dec 27 19:19 776.rb\n",
      "-rw-r--r-- 1 jovyan jovyan   716 Dec 27 19:19 77.rb\n",
      "-rw-r--r-- 1 jovyan jovyan   716 Dec 27 19:19 788.rb\n",
      "-rw-r--r-- 1 jovyan jovyan   716 Dec 27 19:19 795.rb\n",
      "-rw-r--r-- 1 jovyan jovyan   716 Dec 27 19:19 82.rb\n",
      "-rw-r--r-- 1 jovyan jovyan   716 Dec 27 19:19 850.rb\n",
      "-rw-r--r-- 1 jovyan jovyan   716 Dec 27 19:19 877.rb\n",
      "-rw-r--r-- 1 jovyan jovyan   716 Dec 27 19:19 900.rb\n",
      "-rw-r--r-- 1 jovyan jovyan   716 Dec 27 19:19 91.rb\n",
      "-rw-r--r-- 1 jovyan jovyan   716 Dec 27 19:19 94.rb\n",
      "-rw-r--r-- 1 jovyan jovyan   716 Dec 27 19:19 986.rb\n",
      "-rw-r--r-- 1 jovyan jovyan   716 Dec 27 19:19 987.rb\n",
      "-rw-r--r-- 1 jovyan jovyan   715 Dec 27 19:19 182.rb\n",
      "-rw-r--r-- 1 jovyan jovyan   715 Dec 27 19:19 291.rb\n",
      "-rw-r--r-- 1 jovyan jovyan   715 Dec 27 19:19 350.rb\n",
      "-rw-r--r-- 1 jovyan jovyan   715 Dec 27 19:19 376.rb\n",
      "-rw-r--r-- 1 jovyan jovyan   715 Dec 27 19:19 526.rb\n",
      "-rw-r--r-- 1 jovyan jovyan   715 Dec 27 19:19 545.rb\n",
      "-rw-r--r-- 1 jovyan jovyan   715 Dec 27 19:19 584.rb\n",
      "-rw-r--r-- 1 jovyan jovyan   715 Dec 27 19:19 60.rb\n",
      "-rw-r--r-- 1 jovyan jovyan   715 Dec 27 19:19 635.rb\n",
      "-rw-r--r-- 1 jovyan jovyan   714 Dec 27 19:19 442.rb\n",
      "-rw-r--r-- 1 jovyan jovyan   713 Dec 27 19:19 433.rb\n",
      "-rw-r--r-- 1 jovyan jovyan   713 Dec 27 19:19 449.rb\n",
      "-rw-r--r-- 1 jovyan jovyan   713 Dec 27 19:19 809.rb\n",
      "-rw-r--r-- 1 jovyan jovyan   713 Dec 27 19:19 932.rb\n",
      "-rw-r--r-- 1 jovyan jovyan   708 Dec 27 19:19 155.rb\n",
      "-rw-r--r-- 1 jovyan jovyan   708 Dec 27 19:19 161.rb\n",
      "-rw-r--r-- 1 jovyan jovyan   708 Dec 27 19:19 407.rb\n",
      "-rw-r--r-- 1 jovyan jovyan   708 Dec 27 19:19 47.rb\n",
      "-rw-r--r-- 1 jovyan jovyan   708 Dec 27 19:19 686.rb\n",
      "-rw-r--r-- 1 jovyan jovyan   708 Dec 27 19:19 870.rb\n",
      "-rw-r--r-- 1 jovyan jovyan   707 Dec 27 19:19 197.rb\n",
      "-rw-r--r-- 1 jovyan jovyan   707 Dec 27 19:19 501.rb\n",
      "-rw-r--r-- 1 jovyan jovyan   707 Dec 27 19:19 721.rb\n",
      "-rw-r--r-- 1 jovyan jovyan   707 Dec 27 19:19 761.rb\n",
      "-rw-r--r-- 1 jovyan jovyan   707 Dec 27 19:19 778.rb\n",
      "-rw-r--r-- 1 jovyan jovyan   707 Dec 27 19:19 819.rb\n",
      "-rw-r--r-- 1 jovyan jovyan   707 Dec 27 19:19 88.rb\n",
      "-rw-r--r-- 1 jovyan jovyan   707 Dec 27 19:19 949.rb\n",
      "-rw-r--r-- 1 jovyan jovyan   707 Dec 27 19:19 99.rb\n",
      "-rw-r--r-- 1 jovyan jovyan   706 Dec 27 19:19 268.rb\n",
      "-rw-r--r-- 1 jovyan jovyan   706 Dec 27 19:19 324.rb\n",
      "-rw-r--r-- 1 jovyan jovyan   706 Dec 27 19:19 470.rb\n",
      "-rw-r--r-- 1 jovyan jovyan   706 Dec 27 19:19 5.rb\n",
      "-rw-r--r-- 1 jovyan jovyan   706 Dec 27 19:19 871.rb\n",
      "-rw-r--r-- 1 jovyan jovyan   705 Dec 27 19:19 267.rb\n",
      "-rw-r--r-- 1 jovyan jovyan   704 Dec 27 19:19 138.rb\n",
      "-rw-r--r-- 1 jovyan jovyan   704 Dec 27 19:19 168.rb\n",
      "-rw-r--r-- 1 jovyan jovyan   704 Dec 27 19:19 184.rb\n",
      "-rw-r--r-- 1 jovyan jovyan   704 Dec 27 19:19 336.rb\n",
      "-rw-r--r-- 1 jovyan jovyan   704 Dec 27 19:19 339.rb\n",
      "-rw-r--r-- 1 jovyan jovyan   704 Dec 27 19:19 393.rb\n",
      "-rw-r--r-- 1 jovyan jovyan   704 Dec 27 19:19 482.rb\n",
      "-rw-r--r-- 1 jovyan jovyan   704 Dec 27 19:19 535.rb\n",
      "-rw-r--r-- 1 jovyan jovyan   704 Dec 27 19:19 568.rb\n",
      "-rw-r--r-- 1 jovyan jovyan   704 Dec 27 19:19 600.rb\n",
      "-rw-r--r-- 1 jovyan jovyan   704 Dec 27 19:19 618.rb\n",
      "-rw-r--r-- 1 jovyan jovyan   704 Dec 27 19:19 62.rb\n",
      "-rw-r--r-- 1 jovyan jovyan   704 Dec 27 19:19 736.rb\n",
      "-rw-r--r-- 1 jovyan jovyan   704 Dec 27 19:19 83.rb\n",
      "-rw-r--r-- 1 jovyan jovyan   704 Dec 27 19:19 886.rb\n",
      "-rw-r--r-- 1 jovyan jovyan   704 Dec 27 19:19 893.rb\n",
      "-rw-r--r-- 1 jovyan jovyan   704 Dec 27 19:19 905.rb\n",
      "-rw-r--r-- 1 jovyan jovyan   704 Dec 27 19:19 944.rb\n",
      "-rw-r--r-- 1 jovyan jovyan   704 Dec 27 19:19 962.rb\n",
      "-rw-r--r-- 1 jovyan jovyan   703 Dec 27 19:19 11.rb\n",
      "-rw-r--r-- 1 jovyan jovyan   703 Dec 27 19:19 13.rb\n",
      "-rw-r--r-- 1 jovyan jovyan   703 Dec 27 19:19 145.rb\n",
      "-rw-r--r-- 1 jovyan jovyan   703 Dec 27 19:19 606.rb\n",
      "-rw-r--r-- 1 jovyan jovyan   703 Dec 27 19:19 6.rb\n",
      "-rw-r--r-- 1 jovyan jovyan   663 Dec 27 19:19 480.rb\n",
      "-rw-r--r-- 1 jovyan jovyan   663 Dec 27 19:19 636.rb\n"
     ]
    }
   ],
   "source": [
    "! ls -laS ./eden2147483647"
   ]
  },
  {
   "cell_type": "code",
   "execution_count": 8,
   "id": "f2820042-f012-476b-9732-27818df2a94b",
   "metadata": {},
   "outputs": [
    {
     "name": "stdout",
     "output_type": "stream",
     "text": [
      "170\n"
     ]
    }
   ],
   "source": [
    "! ls -laS ./eden/*.rb | wc -l"
   ]
  },
  {
   "cell_type": "code",
   "execution_count": null,
   "id": "c81d8e6b-ca66-4bb4-986d-006108eaf49b",
   "metadata": {},
   "outputs": [],
   "source": []
  }
 ],
 "metadata": {
  "kernelspec": {
   "display_name": "Python 3 (ipykernel)",
   "language": "python",
   "name": "python3"
  },
  "language_info": {
   "codemirror_mode": {
    "name": "ipython",
    "version": 3
   },
   "file_extension": ".py",
   "mimetype": "text/x-python",
   "name": "python",
   "nbconvert_exporter": "python",
   "pygments_lexer": "ipython3",
   "version": "3.7.12"
  }
 },
 "nbformat": 4,
 "nbformat_minor": 5
}
