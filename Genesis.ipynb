{
 "cells": [
  {
   "cell_type": "markdown",
   "id": "9988e2b5-84a3-4096-9910-0bd567c2c2e2",
   "metadata": {},
   "source": [
    "## Core Functions:"
   ]
  },
  {
   "cell_type": "markdown",
   "id": "9bb8e040-f759-42a5-8a94-1a00f32374cf",
   "metadata": {},
   "source": [
    "#### \"nayru\" runs all scripts in ./eden, prunes bad results, and mututes as it runs. "
   ]
  },
  {
   "cell_type": "code",
   "execution_count": 30,
   "id": "da368ef9-270a-4f1e-835d-e3f9ce4053ff",
   "metadata": {},
   "outputs": [
    {
     "name": "stdout",
     "output_type": "stream",
     "text": [
      "#========== epoch stats ==========#\n",
      "#  Number of initial forms: 86\n",
      "#  Number of current forms: 80\n",
      "#          Forms destroyed: 86\n"
     ]
    }
   ],
   "source": [
    "! ruby nayru.rb"
   ]
  },
  {
   "cell_type": "code",
   "execution_count": null,
   "id": "29e428b5-983b-469b-9bcf-85d339566be9",
   "metadata": {},
   "outputs": [
    {
     "name": "stdout",
     "output_type": "stream",
     "text": [
      "#========== epoch stats ==========#\n",
      "#  Number of initial forms: 151\n",
      "#  Number of current forms: 147\n",
      "#          Forms destroyed: 149\n",
      "rm: cannot remove './eden*.rb': No such file or directory\n",
      "#========== epoch stats ==========#\n",
      "#  Number of initial forms: 147\n",
      "#  Number of current forms: 157\n",
      "#          Forms destroyed: 145\n",
      "rm: cannot remove './eden*.rb': No such file or directory\n",
      "#========== epoch stats ==========#\n",
      "#  Number of initial forms: 157\n",
      "#  Number of current forms: 146\n",
      "#          Forms destroyed: 157\n",
      "rm: cannot remove './eden*.rb': No such file or directory\n",
      "#========== epoch stats ==========#\n",
      "#  Number of initial forms: 146\n",
      "#  Number of current forms: 154\n",
      "#          Forms destroyed: 144\n",
      "rm: cannot remove './eden*.rb': No such file or directory\n",
      "#========== epoch stats ==========#\n",
      "#  Number of initial forms: 154\n",
      "#  Number of current forms: 155\n",
      "#          Forms destroyed: 152\n",
      "rm: cannot remove './eden*.rb': No such file or directory\n",
      "#========== epoch stats ==========#\n",
      "#  Number of initial forms: 155\n",
      "#  Number of current forms: 158\n",
      "#          Forms destroyed: 154\n",
      "rm: cannot remove './eden*.rb': No such file or directory\n",
      "#========== epoch stats ==========#\n",
      "#  Number of initial forms: 158\n",
      "#  Number of current forms: 161\n",
      "#          Forms destroyed: 157\n",
      "rm: cannot remove './eden*.rb': No such file or directory\n",
      "#========== epoch stats ==========#\n",
      "#  Number of initial forms: 161\n",
      "#  Number of current forms: 167\n",
      "#          Forms destroyed: 160\n",
      "rm: cannot remove './eden*.rb': No such file or directory\n"
     ]
    }
   ],
   "source": [
    "i = 0\n",
    "while i < 10:\n",
    "    ! ruby nayru.rb\n",
    "    ! rm ./eden*.rb > /dev/null 2>&1\n",
    "    i += 1"
   ]
  },
  {
   "cell_type": "markdown",
   "id": "d861ce18-d651-49cc-a149-50ed10c479e6",
   "metadata": {},
   "source": [
    "#### View what's in eden now:"
   ]
  },
  {
   "cell_type": "code",
   "execution_count": 29,
   "id": "76d06cf5-bbbe-4e14-a4be-7659fef58627",
   "metadata": {},
   "outputs": [
    {
     "name": "stdout",
     "output_type": "stream",
     "text": [
      "total 408\n",
      "drwxr-xr-x 3 jovyan jovyan 20480 Dec 17 17:57 .\n",
      "drwxr-xr-x 1 jovyan jovyan  4096 Dec 17 17:56 ..\n",
      "drwxr-xr-x 2 jovyan jovyan  4096 Dec 17 17:48 .ipynb_checkpoints\n",
      "-rw-r--r-- 1 jovyan jovyan   544 Dec 17 17:57 10.rb\n",
      "-rw-r--r-- 1 jovyan jovyan   544 Dec 17 17:57 1.rb\n",
      "-rw-r--r-- 1 jovyan jovyan   544 Dec 17 17:57 252.rb\n",
      "-rw-r--r-- 1 jovyan jovyan   544 Dec 17 17:57 35.rb\n",
      "-rw-r--r-- 1 jovyan jovyan   544 Dec 17 17:57 785.rb\n",
      "-rw-r--r-- 1 jovyan jovyan   543 Dec 17 17:57 440.rb\n",
      "-rw-r--r-- 1 jovyan jovyan   543 Dec 17 17:57 75.rb\n",
      "-rw-r--r-- 1 jovyan jovyan   543 Dec 17 17:57 931.rb\n",
      "-rw-r--r-- 1 jovyan jovyan   540 Dec 17 17:56 278.r9\n",
      "-rw-r--r-- 1 jovyan jovyan   540 Dec 17 17:56 470.r9\n",
      "-rw-r--r-- 1 jovyan jovyan   538 Dec 17 17:57 990.rb\n",
      "-rw-r--r-- 1 jovyan jovyan   538 Dec 17 17:57 99.rb\n",
      "-rw-r--r-- 1 jovyan jovyan   537 Dec 17 17:57 5.rb\n",
      "-rw-r--r-- 1 jovyan jovyan   537 Dec 17 17:57 66.rb\n",
      "-rw-r--r-- 1 jovyan jovyan   536 Dec 17 17:57 50.rb\n",
      "-rw-r--r-- 1 jovyan jovyan   536 Dec 17 17:57 934.rb\n",
      "-rw-r--r-- 1 jovyan jovyan   532 Dec 17 17:57 147.rb\n",
      "-rw-r--r-- 1 jovyan jovyan   532 Dec 17 17:57 17.rb\n",
      "-rw-r--r-- 1 jovyan jovyan   532 Dec 17 17:57 232.rb\n",
      "-rw-r--r-- 1 jovyan jovyan   532 Dec 17 17:57 266.rb\n",
      "-rw-r--r-- 1 jovyan jovyan   532 Dec 17 17:57 32.rb\n",
      "-rw-r--r-- 1 jovyan jovyan   532 Dec 17 17:57 41.rb\n",
      "-rw-r--r-- 1 jovyan jovyan   532 Dec 17 17:57 59.rb\n",
      "-rw-r--r-- 1 jovyan jovyan   532 Dec 17 17:57 691.rb\n",
      "-rw-r--r-- 1 jovyan jovyan   531 Dec 17 17:57 265.rb\n",
      "-rw-r--r-- 1 jovyan jovyan   531 Dec 17 17:57 28.rb\n",
      "-rw-r--r-- 1 jovyan jovyan   531 Dec 17 17:57 36.rb\n",
      "-rw-r--r-- 1 jovyan jovyan   531 Dec 17 17:57 389.rb\n",
      "-rw-r--r-- 1 jovyan jovyan   531 Dec 17 17:57 83.rb\n",
      "-rw-r--r-- 1 jovyan jovyan   530 Dec 17 17:57 608.rb\n",
      "-rw-r--r-- 1 jovyan jovyan   530 Dec 17 17:57 65.rb\n",
      "-rw-r--r-- 1 jovyan jovyan   529 Dec 17 17:57 212.rb\n",
      "-rw-r--r-- 1 jovyan jovyan   529 Dec 17 17:57 399.rb\n",
      "-rw-r--r-- 1 jovyan jovyan   529 Dec 17 17:57 73.rb\n",
      "-rw-r--r-- 1 jovyan jovyan   529 Dec 17 17:57 809.rb\n",
      "-rw-r--r-- 1 jovyan jovyan   528 Dec 17 17:57 194.rb\n",
      "-rw-r--r-- 1 jovyan jovyan   528 Dec 17 17:57 238.rb\n",
      "-rw-r--r-- 1 jovyan jovyan   528 Dec 17 17:57 30.rb\n",
      "-rw-r--r-- 1 jovyan jovyan   528 Dec 17 17:57 722.rb\n",
      "-rw-r--r-- 1 jovyan jovyan   527 Dec 17 17:57 110.rb\n",
      "-rw-r--r-- 1 jovyan jovyan   521 Dec 17 17:57 179.rb\n",
      "-rw-r--r-- 1 jovyan jovyan   521 Dec 17 17:57 33.rb\n",
      "-rw-r--r-- 1 jovyan jovyan   521 Dec 17 17:57 490.rb\n",
      "-rw-r--r-- 1 jovyan jovyan   521 Dec 17 17:57 53.rb\n",
      "-rw-r--r-- 1 jovyan jovyan   521 Dec 17 17:57 699.rb\n",
      "-rw-r--r-- 1 jovyan jovyan   521 Dec 17 17:57 947.rb\n",
      "-rw-r--r-- 1 jovyan jovyan   521 Dec 17 17:57 97.rb\n",
      "-rw-r--r-- 1 jovyan jovyan   520 Dec 17 17:57 16.rb\n",
      "-rw-r--r-- 1 jovyan jovyan   520 Dec 17 17:57 472.rb\n",
      "-rw-r--r-- 1 jovyan jovyan   520 Dec 17 17:57 8{hild3}.rb\n",
      "-rw-r--r-- 1 jovyan jovyan   519 Dec 17 17:57 23.rb\n",
      "-rw-r--r-- 1 jovyan jovyan   519 Dec 17 17:57 275.rb\n",
      "-rw-r--r-- 1 jovyan jovyan   519 Dec 17 17:57 387.rb\n",
      "-rw-r--r-- 1 jovyan jovyan   519 Dec 17 17:57 46.rb\n",
      "-rw-r--r-- 1 jovyan jovyan   518 Dec 17 17:57 165.rb\n",
      "-rw-r--r-- 1 jovyan jovyan   518 Dec 17 17:57 20.rb\n",
      "-rw-r--r-- 1 jovyan jovyan   518 Dec 17 17:57 24.rb\n",
      "-rw-r--r-- 1 jovyan jovyan   518 Dec 17 17:57 253.rb\n",
      "-rw-r--r-- 1 jovyan jovyan   518 Dec 17 17:57 39.rb\n",
      "-rw-r--r-- 1 jovyan jovyan   518 Dec 17 17:57 403.rb\n",
      "-rw-r--r-- 1 jovyan jovyan   518 Dec 17 17:57 487.rb\n",
      "-rw-r--r-- 1 jovyan jovyan   518 Dec 17 17:57 630.rb\n",
      "-rw-r--r-- 1 jovyan jovyan   518 Dec 17 17:57 63.rb\n",
      "-rw-r--r-- 1 jovyan jovyan   518 Dec 17 17:57 657.rb\n",
      "-rw-r--r-- 1 jovyan jovyan   518 Dec 17 17:57 67.rb\n",
      "-rw-r--r-- 1 jovyan jovyan   518 Dec 17 17:57 752.rb\n",
      "-rw-r--r-- 1 jovyan jovyan   518 Dec 17 17:57 89.rb\n",
      "-rw-r--r-- 1 jovyan jovyan   518 Dec 17 17:57 924.rb\n",
      "-rw-r--r-- 1 jovyan jovyan   517 Dec 17 17:57 14.rb\n",
      "-rw-r--r-- 1 jovyan jovyan   517 Dec 17 17:57 31.rb\n",
      "-rw-r--r-- 1 jovyan jovyan   517 Dec 17 17:57 538.rb\n",
      "-rw-r--r-- 1 jovyan jovyan   517 Dec 17 17:57 728.rb\n",
      "-rw-r--r-- 1 jovyan jovyan   517 Dec 17 17:57 776.rb\n",
      "-rw-r--r-- 1 jovyan jovyan   517 Dec 17 17:57 906.rb\n",
      "-rw-r--r-- 1 jovyan jovyan   517 Dec 17 17:57 936.rb\n",
      "-rw-r--r-- 1 jovyan jovyan   516 Dec 17 17:57 813.rb\n",
      "-rw-r--r-- 1 jovyan jovyan   515 Dec 17 17:57 507.rb\n",
      "-rw-r--r-- 1 jovyan jovyan   515 Dec 17 17:57 52.rb\n",
      "-rw-r--r-- 1 jovyan jovyan   515 Dec 17 17:57 887.rb\n",
      "-rw-r--r-- 1 jovyan jovyan   515 Dec 17 17:57 944.rb\n",
      "-rw-r--r-- 1 jovyan jovyan   512 Dec 17 17:57 18.rb\n",
      "-rw-r--r-- 1 jovyan jovyan   512 Dec 17 17:57 415.rb\n",
      "-rw-r--r-- 1 jovyan jovyan   512 Dec 17 17:57 832.rb\n",
      "-rw-r--r-- 1 jovyan jovyan   511 Dec 17 17:57 116.rb\n",
      "-rw-r--r-- 1 jovyan jovyan   511 Dec 17 17:57 29.rb\n",
      "-rw-r--r-- 1 jovyan jovyan   506 Dec 17 17:57 119.rb\n",
      "-rw-r--r-- 1 jovyan jovyan   506 Dec 17 17:57 21.rb\n",
      "-rw-r--r-- 1 jovyan jovyan   462 Dec 17 17:57 82.rb\n",
      "-rw-r--r-- 1 jovyan jovyan   331 Dec 17 17:46 89rb\n",
      "-rw-r--r-- 1 jovyan jovyan   331 Dec 17 17:46 94rb\n",
      "-rw-r--r-- 1 jovyan jovyan   331 Dec 17 17:34 994.z\n",
      "-rw-r--r-- 1 jovyan jovyan   331 Dec 17 17:20 {child3}.r0\n",
      "-rw-r--r-- 1 jovyan jovyan   330 Dec 17 17:47 58rb\n"
     ]
    }
   ],
   "source": [
    "! ls -laS ./eden2147483647"
   ]
  },
  {
   "cell_type": "code",
   "execution_count": 8,
   "id": "f2820042-f012-476b-9732-27818df2a94b",
   "metadata": {},
   "outputs": [
    {
     "name": "stdout",
     "output_type": "stream",
     "text": [
      "170\n"
     ]
    }
   ],
   "source": [
    "! ls -laS ./eden/*.rb | wc -l"
   ]
  },
  {
   "cell_type": "code",
   "execution_count": null,
   "id": "c81d8e6b-ca66-4bb4-986d-006108eaf49b",
   "metadata": {},
   "outputs": [],
   "source": []
  }
 ],
 "metadata": {
  "kernelspec": {
   "display_name": "Python 3 (ipykernel)",
   "language": "python",
   "name": "python3"
  },
  "language_info": {
   "codemirror_mode": {
    "name": "ipython",
    "version": 3
   },
   "file_extension": ".py",
   "mimetype": "text/x-python",
   "name": "python",
   "nbconvert_exporter": "python",
   "pygments_lexer": "ipython3",
   "version": "3.7.12"
  }
 },
 "nbformat": 4,
 "nbformat_minor": 5
}
