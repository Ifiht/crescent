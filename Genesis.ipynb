{
 "cells": [
  {
   "cell_type": "markdown",
   "id": "9988e2b5-84a3-4096-9910-0bd567c2c2e2",
   "metadata": {},
   "source": [
    "# Crescent: Genesis of Digital Life\n",
    "#### _experiment 001_\n",
    "Your average bacteria \"lives\" and replicates on a 30-60 minute time scale. \n",
    "\n",
    "Currently \"nayru\" completes in just under 4s, running just under 200 \"lifeforms\". Representing a speed increase of 135,000%, with very heavy mutations every cycle, \n",
    "\n",
    "it is hoped that the project here will provide useful results for exploration of machine-generated self-replication and selection."
   ]
  },
  {
   "cell_type": "markdown",
   "id": "4af54140-5e11-4d3f-bce4-dd603ded79b5",
   "metadata": {},
   "source": [
    "## Core Functions:"
   ]
  },
  {
   "cell_type": "markdown",
   "id": "d37dd9af-57dc-4399-b7bc-34cfb810efa1",
   "metadata": {},
   "source": [
    "#### Run this command to initialize the environment:"
   ]
  },
  {
   "cell_type": "code",
   "execution_count": 1,
   "id": "cc904485-cd36-4da3-9e04-bcfd369c4a30",
   "metadata": {},
   "outputs": [],
   "source": [
    "! mkdir eden2147483647\n",
    "! cp seed.rb ./eden2147483647/"
   ]
  },
  {
   "cell_type": "markdown",
   "id": "9bb8e040-f759-42a5-8a94-1a00f32374cf",
   "metadata": {},
   "source": [
    "#### \"nayru\" runs all scripts in ./eden, prunes bad results, and mututes as it runs. "
   ]
  },
  {
   "cell_type": "code",
   "execution_count": 7,
   "id": "da368ef9-270a-4f1e-835d-e3f9ce4053ff",
   "metadata": {},
   "outputs": [
    {
     "name": "stdout",
     "output_type": "stream",
     "text": [
      "#========== epoch stats ==========#\n",
      "#  Number of initial forms: 11\n",
      "#  Number of current forms: 9\n",
      "#          Forms destroyed: 6\n",
      "\n",
      "real\t0m1.193s\n",
      "user\t0m1.001s\n",
      "sys\t0m0.211s\n"
     ]
    }
   ],
   "source": [
    "! time ruby nayru.rb"
   ]
  },
  {
   "cell_type": "code",
   "execution_count": 4,
   "id": "29e428b5-983b-469b-9bcf-85d339566be9",
   "metadata": {},
   "outputs": [
    {
     "name": "stdout",
     "output_type": "stream",
     "text": [
      "#========== epoch stats ==========#\n",
      "#  Number of initial forms: 162\n",
      "#  Number of current forms: 166\n",
      "#          Forms destroyed: 162\n",
      "\n",
      "real\t0m19.868s\n",
      "user\t0m15.707s\n",
      "sys\t0m3.545s\n",
      "#========== epoch stats ==========#\n",
      "#  Number of initial forms: 166\n",
      "#  Number of current forms: 161\n",
      "#          Forms destroyed: 165\n",
      "\n",
      "real\t0m19.945s\n",
      "user\t0m15.730s\n",
      "sys\t0m3.600s\n",
      "#========== epoch stats ==========#\n",
      "#  Number of initial forms: 161\n",
      "#  Number of current forms: 164\n",
      "#          Forms destroyed: 160\n",
      "\n",
      "real\t0m19.417s\n",
      "user\t0m15.383s\n",
      "sys\t0m3.460s\n",
      "#========== epoch stats ==========#\n",
      "#  Number of initial forms: 164\n",
      "#  Number of current forms: 167\n",
      "#          Forms destroyed: 163\n",
      "\n",
      "real\t0m20.338s\n",
      "user\t0m15.907s\n",
      "sys\t0m3.700s\n"
     ]
    }
   ],
   "source": [
    "i = 0\n",
    "while i < 4:\n",
    "    ! time ruby nayru.rb\n",
    "    ! rm ./eden*.rb > /dev/null 2>&1\n",
    "    i += 1"
   ]
  },
  {
   "cell_type": "markdown",
   "id": "d861ce18-d651-49cc-a149-50ed10c479e6",
   "metadata": {},
   "source": [
    "#### View what's in eden now:"
   ]
  },
  {
   "cell_type": "code",
   "execution_count": 3,
   "id": "76d06cf5-bbbe-4e14-a4be-7659fef58627",
   "metadata": {},
   "outputs": [
    {
     "name": "stdout",
     "output_type": "stream",
     "text": [
      "total 672\n",
      "drwxr-xr-x 3 jovyan jovyan 12288 Dec 17 21:02 .\n",
      "drwxr-xr-x 1 jovyan jovyan  4096 Dec 17 21:02 ..\n",
      "drwxr-xr-x 2 jovyan jovyan  4096 Dec 17 21:01 .ipynb_checkpoints\n",
      "-rw-r--r-- 1 jovyan jovyan   720 Dec 17 21:02 103.rb\n",
      "-rw-r--r-- 1 jovyan jovyan   720 Dec 17 21:02 115.rb\n",
      "-rw-r--r-- 1 jovyan jovyan   720 Dec 17 21:02 116.rb\n",
      "-rw-r--r-- 1 jovyan jovyan   720 Dec 17 21:02 120.rb\n",
      "-rw-r--r-- 1 jovyan jovyan   720 Dec 17 21:02 12.rb\n",
      "-rw-r--r-- 1 jovyan jovyan   720 Dec 17 21:02 130.rb\n",
      "-rw-r--r-- 1 jovyan jovyan   720 Dec 17 21:02 131.rb\n",
      "-rw-r--r-- 1 jovyan jovyan   720 Dec 17 21:02 13.rb\n",
      "-rw-r--r-- 1 jovyan jovyan   720 Dec 17 21:02 143.rb\n",
      "-rw-r--r-- 1 jovyan jovyan   720 Dec 17 21:02 146.rb\n",
      "-rw-r--r-- 1 jovyan jovyan   720 Dec 17 21:02 147.rb\n",
      "-rw-r--r-- 1 jovyan jovyan   720 Dec 17 21:02 14.rb\n",
      "-rw-r--r-- 1 jovyan jovyan   720 Dec 17 21:02 171.rb\n",
      "-rw-r--r-- 1 jovyan jovyan   720 Dec 17 21:02 193.rb\n",
      "-rw-r--r-- 1 jovyan jovyan   720 Dec 17 21:02 196.rb\n",
      "-rw-r--r-- 1 jovyan jovyan   720 Dec 17 21:02 197.rb\n",
      "-rw-r--r-- 1 jovyan jovyan   720 Dec 17 21:02 21.rb\n",
      "-rw-r--r-- 1 jovyan jovyan   720 Dec 17 21:02 270.rb\n",
      "-rw-r--r-- 1 jovyan jovyan   720 Dec 17 21:02 327.rb\n",
      "-rw-r--r-- 1 jovyan jovyan   720 Dec 17 21:02 32.rb\n",
      "-rw-r--r-- 1 jovyan jovyan   720 Dec 17 21:02 336.rb\n",
      "-rw-r--r-- 1 jovyan jovyan   720 Dec 17 21:02 33.rb\n",
      "-rw-r--r-- 1 jovyan jovyan   720 Dec 17 21:02 346.rb\n",
      "-rw-r--r-- 1 jovyan jovyan   720 Dec 17 21:02 375.rb\n",
      "-rw-r--r-- 1 jovyan jovyan   720 Dec 17 21:02 396.rb\n",
      "-rw-r--r-- 1 jovyan jovyan   720 Dec 17 21:02 399.rb\n",
      "-rw-r--r-- 1 jovyan jovyan   720 Dec 17 21:02 39.rb\n",
      "-rw-r--r-- 1 jovyan jovyan   720 Dec 17 21:02 403.rb\n",
      "-rw-r--r-- 1 jovyan jovyan   720 Dec 17 21:02 412.rb\n",
      "-rw-r--r-- 1 jovyan jovyan   720 Dec 17 21:02 46.rb\n",
      "-rw-r--r-- 1 jovyan jovyan   720 Dec 17 21:02 488.rb\n",
      "-rw-r--r-- 1 jovyan jovyan   720 Dec 17 21:02 48.rb\n",
      "-rw-r--r-- 1 jovyan jovyan   720 Dec 17 21:02 4.rb\n",
      "-rw-r--r-- 1 jovyan jovyan   720 Dec 17 21:02 500.rb\n",
      "-rw-r--r-- 1 jovyan jovyan   720 Dec 17 21:02 502.rb\n",
      "-rw-r--r-- 1 jovyan jovyan   720 Dec 17 21:02 507.rb\n",
      "-rw-r--r-- 1 jovyan jovyan   720 Dec 17 21:02 53.rb\n",
      "-rw-r--r-- 1 jovyan jovyan   720 Dec 17 21:02 573.rb\n",
      "-rw-r--r-- 1 jovyan jovyan   720 Dec 17 21:02 617.rb\n",
      "-rw-r--r-- 1 jovyan jovyan   720 Dec 17 21:02 625.rb\n",
      "-rw-r--r-- 1 jovyan jovyan   720 Dec 17 21:02 630.rb\n",
      "-rw-r--r-- 1 jovyan jovyan   720 Dec 17 21:02 671.rb\n",
      "-rw-r--r-- 1 jovyan jovyan   720 Dec 17 21:02 676.rb\n",
      "-rw-r--r-- 1 jovyan jovyan   720 Dec 17 21:02 71.rb\n",
      "-rw-r--r-- 1 jovyan jovyan   720 Dec 17 21:02 736.rb\n",
      "-rw-r--r-- 1 jovyan jovyan   720 Dec 17 21:02 738.rb\n",
      "-rw-r--r-- 1 jovyan jovyan   720 Dec 17 21:02 762.rb\n",
      "-rw-r--r-- 1 jovyan jovyan   720 Dec 17 21:02 777.rb\n",
      "-rw-r--r-- 1 jovyan jovyan   720 Dec 17 21:02 782.rb\n",
      "-rw-r--r-- 1 jovyan jovyan   720 Dec 17 21:02 829.rb\n",
      "-rw-r--r-- 1 jovyan jovyan   720 Dec 17 21:02 82.rb\n",
      "-rw-r--r-- 1 jovyan jovyan   720 Dec 17 21:02 841.rb\n",
      "-rw-r--r-- 1 jovyan jovyan   720 Dec 17 21:02 85.rb\n",
      "-rw-r--r-- 1 jovyan jovyan   720 Dec 17 21:02 867.rb\n",
      "-rw-r--r-- 1 jovyan jovyan   720 Dec 17 21:02 86.rb\n",
      "-rw-r--r-- 1 jovyan jovyan   720 Dec 17 21:02 876.rb\n",
      "-rw-r--r-- 1 jovyan jovyan   720 Dec 17 21:02 878.rb\n",
      "-rw-r--r-- 1 jovyan jovyan   720 Dec 17 21:02 882.rb\n",
      "-rw-r--r-- 1 jovyan jovyan   720 Dec 17 21:02 897.rb\n",
      "-rw-r--r-- 1 jovyan jovyan   720 Dec 17 21:02 8.rb\n",
      "-rw-r--r-- 1 jovyan jovyan   720 Dec 17 21:02 908.rb\n",
      "-rw-r--r-- 1 jovyan jovyan   720 Dec 17 21:02 914.rb\n",
      "-rw-r--r-- 1 jovyan jovyan   720 Dec 17 21:02 922.rb\n",
      "-rw-r--r-- 1 jovyan jovyan   720 Dec 17 21:02 929.rb\n",
      "-rw-r--r-- 1 jovyan jovyan   720 Dec 17 21:02 95.rb\n",
      "-rw-r--r-- 1 jovyan jovyan   720 Dec 17 21:02 966.rb\n",
      "-rw-r--r-- 1 jovyan jovyan   720 Dec 17 21:02 972.rb\n",
      "-rw-r--r-- 1 jovyan jovyan   720 Dec 17 21:02 975.rb\n",
      "-rw-r--r-- 1 jovyan jovyan   720 Dec 17 21:02 985.rb\n",
      "-rw-r--r-- 1 jovyan jovyan   720 Dec 17 21:02 997.rb\n",
      "-rw-r--r-- 1 jovyan jovyan   717 Dec 17 21:02 10.rb\n",
      "-rw-r--r-- 1 jovyan jovyan   717 Dec 17 21:02 129.rb\n",
      "-rw-r--r-- 1 jovyan jovyan   717 Dec 17 21:02 158.rb\n",
      "-rw-r--r-- 1 jovyan jovyan   717 Dec 17 21:02 161.rb\n",
      "-rw-r--r-- 1 jovyan jovyan   717 Dec 17 21:02 163.rb\n",
      "-rw-r--r-- 1 jovyan jovyan   717 Dec 17 21:02 16.rb\n",
      "-rw-r--r-- 1 jovyan jovyan   717 Dec 17 21:02 182.rb\n",
      "-rw-r--r-- 1 jovyan jovyan   717 Dec 17 21:02 186.rb\n",
      "-rw-r--r-- 1 jovyan jovyan   717 Dec 17 21:02 195.rb\n",
      "-rw-r--r-- 1 jovyan jovyan   717 Dec 17 21:02 223.rb\n",
      "-rw-r--r-- 1 jovyan jovyan   717 Dec 17 21:02 227.rb\n",
      "-rw-r--r-- 1 jovyan jovyan   717 Dec 17 21:02 235.rb\n",
      "-rw-r--r-- 1 jovyan jovyan   717 Dec 17 21:02 271.rb\n",
      "-rw-r--r-- 1 jovyan jovyan   717 Dec 17 21:02 273.rb\n",
      "-rw-r--r-- 1 jovyan jovyan   717 Dec 17 21:02 27.rb\n",
      "-rw-r--r-- 1 jovyan jovyan   717 Dec 17 21:02 291.rb\n",
      "-rw-r--r-- 1 jovyan jovyan   717 Dec 17 21:02 299.rb\n",
      "-rw-r--r-- 1 jovyan jovyan   717 Dec 17 21:02 307.rb\n",
      "-rw-r--r-- 1 jovyan jovyan   717 Dec 17 21:02 30.rb\n",
      "-rw-r--r-- 1 jovyan jovyan   717 Dec 17 21:02 310.rb\n",
      "-rw-r--r-- 1 jovyan jovyan   717 Dec 17 21:02 332.rb\n",
      "-rw-r--r-- 1 jovyan jovyan   717 Dec 17 21:02 354.rb\n",
      "-rw-r--r-- 1 jovyan jovyan   717 Dec 17 21:02 35.rb\n",
      "-rw-r--r-- 1 jovyan jovyan   717 Dec 17 21:02 360.rb\n",
      "-rw-r--r-- 1 jovyan jovyan   717 Dec 17 21:02 377.rb\n",
      "-rw-r--r-- 1 jovyan jovyan   717 Dec 17 21:02 385.rb\n",
      "-rw-r--r-- 1 jovyan jovyan   717 Dec 17 21:02 40.rb\n",
      "-rw-r--r-- 1 jovyan jovyan   717 Dec 17 21:02 415.rb\n",
      "-rw-r--r-- 1 jovyan jovyan   717 Dec 17 21:02 41.rb\n",
      "-rw-r--r-- 1 jovyan jovyan   717 Dec 17 21:02 449.rb\n",
      "-rw-r--r-- 1 jovyan jovyan   717 Dec 17 21:02 44.rb\n",
      "-rw-r--r-- 1 jovyan jovyan   717 Dec 17 21:02 457.rb\n",
      "-rw-r--r-- 1 jovyan jovyan   717 Dec 17 21:02 467.rb\n",
      "-rw-r--r-- 1 jovyan jovyan   717 Dec 17 21:02 475.rb\n",
      "-rw-r--r-- 1 jovyan jovyan   717 Dec 17 21:02 485.rb\n",
      "-rw-r--r-- 1 jovyan jovyan   717 Dec 17 21:02 49.rb\n",
      "-rw-r--r-- 1 jovyan jovyan   717 Dec 17 21:02 506.rb\n",
      "-rw-r--r-- 1 jovyan jovyan   717 Dec 17 21:02 511.rb\n",
      "-rw-r--r-- 1 jovyan jovyan   717 Dec 17 21:02 515.rb\n",
      "-rw-r--r-- 1 jovyan jovyan   717 Dec 17 21:02 534.rb\n",
      "-rw-r--r-- 1 jovyan jovyan   717 Dec 17 21:02 565.rb\n",
      "-rw-r--r-- 1 jovyan jovyan   717 Dec 17 21:02 582.rb\n",
      "-rw-r--r-- 1 jovyan jovyan   717 Dec 17 21:02 584.rb\n",
      "-rw-r--r-- 1 jovyan jovyan   717 Dec 17 21:02 591.rb\n",
      "-rw-r--r-- 1 jovyan jovyan   717 Dec 17 21:02 596.rb\n",
      "-rw-r--r-- 1 jovyan jovyan   717 Dec 17 21:02 5.rb\n",
      "-rw-r--r-- 1 jovyan jovyan   717 Dec 17 21:02 60.rb\n",
      "-rw-r--r-- 1 jovyan jovyan   717 Dec 17 21:02 627.rb\n",
      "-rw-r--r-- 1 jovyan jovyan   717 Dec 17 21:02 639.rb\n",
      "-rw-r--r-- 1 jovyan jovyan   717 Dec 17 21:02 64.rb\n",
      "-rw-r--r-- 1 jovyan jovyan   717 Dec 17 21:02 652.rb\n",
      "-rw-r--r-- 1 jovyan jovyan   717 Dec 17 21:02 658.rb\n",
      "-rw-r--r-- 1 jovyan jovyan   717 Dec 17 21:02 65.rb\n",
      "-rw-r--r-- 1 jovyan jovyan   717 Dec 17 21:02 669.rb\n",
      "-rw-r--r-- 1 jovyan jovyan   717 Dec 17 21:02 66.rb\n",
      "-rw-r--r-- 1 jovyan jovyan   717 Dec 17 21:02 70.rb\n",
      "-rw-r--r-- 1 jovyan jovyan   717 Dec 17 21:02 716.rb\n",
      "-rw-r--r-- 1 jovyan jovyan   717 Dec 17 21:02 721.rb\n",
      "-rw-r--r-- 1 jovyan jovyan   717 Dec 17 21:02 725.rb\n",
      "-rw-r--r-- 1 jovyan jovyan   717 Dec 17 21:02 74.rb\n",
      "-rw-r--r-- 1 jovyan jovyan   717 Dec 17 21:02 752.rb\n",
      "-rw-r--r-- 1 jovyan jovyan   717 Dec 17 21:02 756.rb\n",
      "-rw-r--r-- 1 jovyan jovyan   717 Dec 17 21:02 75.rb\n",
      "-rw-r--r-- 1 jovyan jovyan   717 Dec 17 21:02 774.rb\n",
      "-rw-r--r-- 1 jovyan jovyan   717 Dec 17 21:02 778.rb\n",
      "-rw-r--r-- 1 jovyan jovyan   717 Dec 17 21:02 786.rb\n",
      "-rw-r--r-- 1 jovyan jovyan   717 Dec 17 21:02 78.rb\n",
      "-rw-r--r-- 1 jovyan jovyan   717 Dec 17 21:02 804.rb\n",
      "-rw-r--r-- 1 jovyan jovyan   717 Dec 17 21:02 809.rb\n",
      "-rw-r--r-- 1 jovyan jovyan   717 Dec 17 21:02 80.rb\n",
      "-rw-r--r-- 1 jovyan jovyan   717 Dec 17 21:02 839.rb\n",
      "-rw-r--r-- 1 jovyan jovyan   717 Dec 17 21:02 842.rb\n",
      "-rw-r--r-- 1 jovyan jovyan   717 Dec 17 21:02 843.rb\n",
      "-rw-r--r-- 1 jovyan jovyan   717 Dec 17 21:02 852.rb\n",
      "-rw-r--r-- 1 jovyan jovyan   717 Dec 17 21:02 869.rb\n",
      "-rw-r--r-- 1 jovyan jovyan   717 Dec 17 21:02 871.rb\n",
      "-rw-r--r-- 1 jovyan jovyan   717 Dec 17 21:02 881.rb\n",
      "-rw-r--r-- 1 jovyan jovyan   717 Dec 17 21:02 88.rb\n",
      "-rw-r--r-- 1 jovyan jovyan   717 Dec 17 21:02 89.rb\n",
      "-rw-r--r-- 1 jovyan jovyan   717 Dec 17 21:02 903.rb\n",
      "-rw-r--r-- 1 jovyan jovyan   717 Dec 17 21:02 907.rb\n",
      "-rw-r--r-- 1 jovyan jovyan   717 Dec 17 21:02 913.rb\n",
      "-rw-r--r-- 1 jovyan jovyan   717 Dec 17 21:02 916.rb\n",
      "-rw-r--r-- 1 jovyan jovyan   717 Dec 17 21:02 924.rb\n",
      "-rw-r--r-- 1 jovyan jovyan   717 Dec 17 21:02 928.rb\n",
      "-rw-r--r-- 1 jovyan jovyan   717 Dec 17 21:02 934.rb\n",
      "-rw-r--r-- 1 jovyan jovyan   717 Dec 17 21:02 940.rb\n",
      "-rw-r--r-- 1 jovyan jovyan   717 Dec 17 21:02 944.rb\n",
      "-rw-r--r-- 1 jovyan jovyan   717 Dec 17 21:02 94.rb\n",
      "-rw-r--r-- 1 jovyan jovyan   717 Dec 17 21:02 988.rb\n",
      "-rw-r--r-- 1 jovyan jovyan   717 Dec 17 21:02 989.rb\n",
      "-rw-r--r-- 1 jovyan jovyan   717 Dec 17 21:02 98.rb\n"
     ]
    }
   ],
   "source": [
    "! ls -laS ./eden2147483647"
   ]
  },
  {
   "cell_type": "code",
   "execution_count": 8,
   "id": "f2820042-f012-476b-9732-27818df2a94b",
   "metadata": {},
   "outputs": [
    {
     "name": "stdout",
     "output_type": "stream",
     "text": [
      "170\n"
     ]
    }
   ],
   "source": [
    "! ls -laS ./eden/*.rb | wc -l"
   ]
  },
  {
   "cell_type": "code",
   "execution_count": null,
   "id": "c81d8e6b-ca66-4bb4-986d-006108eaf49b",
   "metadata": {},
   "outputs": [],
   "source": []
  }
 ],
 "metadata": {
  "kernelspec": {
   "display_name": "Python 3 (ipykernel)",
   "language": "python",
   "name": "python3"
  },
  "language_info": {
   "codemirror_mode": {
    "name": "ipython",
    "version": 3
   },
   "file_extension": ".py",
   "mimetype": "text/x-python",
   "name": "python",
   "nbconvert_exporter": "python",
   "pygments_lexer": "ipython3",
   "version": "3.7.12"
  }
 },
 "nbformat": 4,
 "nbformat_minor": 5
}
